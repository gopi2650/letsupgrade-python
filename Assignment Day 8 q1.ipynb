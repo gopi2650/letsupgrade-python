{
 "cells": [
  {
   "cell_type": "markdown",
   "metadata": {},
   "source": [
    "# Question 1"
   ]
  },
  {
   "cell_type": "code",
   "execution_count": null,
   "metadata": {},
   "outputs": [
    {
     "name": "stdout",
     "output_type": "stream",
     "text": [
      "Start: 1\n",
      "End: 1000\n",
      "Fibonacci sequence values between  1  and  1000\n",
      "1\n",
      "1\n",
      "2\n",
      "3\n",
      "5\n",
      "8\n",
      "13\n",
      "21\n",
      "34\n",
      "55\n",
      "89\n",
      "144\n",
      "233\n",
      "377\n",
      "610\n",
      "987\n"
     ]
    }
   ],
   "source": [
    "def getInput(calculate_argsfun):\n",
    "    def wrap_fn():\n",
    "        A = int(input(\"Start: \"))\n",
    "        B = int(input(\"End: \"))\n",
    "        calculate_argsfun(A,B) \n",
    "    return wrap_fn\n",
    "\n",
    "@getInput \n",
    "def fibonacci(A,B):\n",
    "  nterms = 100\n",
    "  def recursion_fibo(n):\n",
    "   if n <= 1:\n",
    "       return n\n",
    "   else:\n",
    "       return(recursion_fibo(n-1) + recursion_fibo(n-2))\n",
    "       \n",
    "  if nterms <= 0:\n",
    "   print(\"Plese enter a positive integer\")\n",
    "  else:\n",
    "   print(\"Fibonacci sequence values between \", A, \" and \", B)\n",
    "   for i in range(nterms):\n",
    "     if recursion_fibo(i) >= A and recursion_fibo(i) <= B: \n",
    "       print(recursion_fibo(i))\n",
    "fibonacci()"
   ]
  },
  {
   "cell_type": "code",
   "execution_count": null,
   "metadata": {},
   "outputs": [],
   "source": []
  },
  {
   "cell_type": "code",
   "execution_count": null,
   "metadata": {},
   "outputs": [],
   "source": []
  }
 ],
 "metadata": {
  "kernelspec": {
   "display_name": "Python 3",
   "language": "python",
   "name": "python3"
  },
  "language_info": {
   "codemirror_mode": {
    "name": "ipython",
    "version": 3
   },
   "file_extension": ".py",
   "mimetype": "text/x-python",
   "name": "python",
   "nbconvert_exporter": "python",
   "pygments_lexer": "ipython3",
   "version": "3.8.3"
  }
 },
 "nbformat": 4,
 "nbformat_minor": 4
}
