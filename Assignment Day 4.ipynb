{
 "cells": [
  {
   "cell_type": "markdown",
   "metadata": {},
   "source": [
    "# # Day 4 Assignment\n",
    "# 1. Program to check first Armstrong number in a certain interval and exit loop\n"
   ]
  },
  {
   "cell_type": "code",
   "execution_count": 1,
   "metadata": {},
   "outputs": [
    {
     "name": "stdout",
     "output_type": "stream",
     "text": [
      "The first Armstrong number is  1741725\n"
     ]
    }
   ],
   "source": [
    "start = 1042000\n",
    "end = 702648265\n",
    " \n",
    "for i in range(start, end + 1): \n",
    "   order = len(str(i)) \n",
    "   sum = 0 \n",
    "   temp = i\n",
    "   while temp > 0:\n",
    "       dig = temp % 10\n",
    "       sum += dig ** order\n",
    "       temp //= 10 \n",
    "   if i == sum:\n",
    "       print(\"The first Armstrong number is \",i)\n",
    "       break"
   ]
  },
  {
   "cell_type": "code",
   "execution_count": null,
   "metadata": {},
   "outputs": [],
   "source": []
  }
 ],
 "metadata": {
  "kernelspec": {
   "display_name": "Python 3",
   "language": "python",
   "name": "python3"
  },
  "language_info": {
   "codemirror_mode": {
    "name": "ipython",
    "version": 3
   },
   "file_extension": ".py",
   "mimetype": "text/x-python",
   "name": "python",
   "nbconvert_exporter": "python",
   "pygments_lexer": "ipython3",
   "version": "3.8.3"
  }
 },
 "nbformat": 4,
 "nbformat_minor": 4
}
