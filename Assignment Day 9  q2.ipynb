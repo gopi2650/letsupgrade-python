{
 "cells": [
  {
   "cell_type": "markdown",
   "metadata": {},
   "source": [
    "# Generator function to armstrong numbers"
   ]
  },
  {
   "cell_type": "code",
   "execution_count": 1,
   "metadata": {},
   "outputs": [
    {
     "name": "stdout",
     "output_type": "stream",
     "text": [
      "153\n",
      "370\n",
      "371\n",
      "407\n"
     ]
    }
   ],
   "source": [
    "def genFunc(): \n",
    "  start = 1 \n",
    "  end = 1000\n",
    "  \n",
    "  for i in range(start, end + 1): \n",
    "    if i >= 10:\n",
    "      order = len(str(i)) \n",
    "      sum = 0 \n",
    "      temp = i\n",
    "      while temp > 0:\n",
    "        dig = temp % 10\n",
    "        sum += dig ** order\n",
    "        temp //= 10 \n",
    "      if i == sum:\n",
    "        yield i\n",
    "      \n",
    "for x in genFunc():\n",
    "  print(x)"
   ]
  },
  {
   "cell_type": "code",
   "execution_count": null,
   "metadata": {},
   "outputs": [],
   "source": []
  }
 ],
 "metadata": {
  "kernelspec": {
   "display_name": "Python 3",
   "language": "python",
   "name": "python3"
  },
  "language_info": {
   "codemirror_mode": {
    "name": "ipython",
    "version": 3
   },
   "file_extension": ".py",
   "mimetype": "text/x-python",
   "name": "python",
   "nbconvert_exporter": "python",
   "pygments_lexer": "ipython3",
   "version": "3.8.3"
  }
 },
 "nbformat": 4,
 "nbformat_minor": 4
}
