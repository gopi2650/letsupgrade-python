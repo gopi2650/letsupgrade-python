{
 "cells": [
  {
   "cell_type": "code",
   "execution_count": 1,
   "metadata": {},
   "outputs": [
    {
     "name": "stdout",
     "output_type": "stream",
     "text": [
      "Write in File: abcdef\n",
      "File in Read only mode\n",
      "Want to Overwrite (W) or Append (A) or Read (R) ? : S\n",
      "Invalid Response!\n"
     ]
    },
    {
     "ename": "NameError",
     "evalue": "name 'file' is not defined",
     "output_type": "error",
     "traceback": [
      "\u001b[1;31m---------------------------------------------------------------------------\u001b[0m",
      "\u001b[1;31mNameError\u001b[0m                                 Traceback (most recent call last)",
      "\u001b[1;32m<ipython-input-1-cf174c4db964>\u001b[0m in \u001b[0;36m<module>\u001b[1;34m\u001b[0m\n\u001b[0;32m     42\u001b[0m \u001b[1;33m\u001b[0m\u001b[0m\n\u001b[0;32m     43\u001b[0m \u001b[1;32mfinally\u001b[0m\u001b[1;33m:\u001b[0m\u001b[1;33m\u001b[0m\u001b[1;33m\u001b[0m\u001b[0m\n\u001b[1;32m---> 44\u001b[1;33m   \u001b[0mfile\u001b[0m\u001b[1;33m.\u001b[0m\u001b[0mclose\u001b[0m\u001b[1;33m(\u001b[0m\u001b[1;33m)\u001b[0m\u001b[1;33m\u001b[0m\u001b[1;33m\u001b[0m\u001b[0m\n\u001b[0m",
      "\u001b[1;31mNameError\u001b[0m: name 'file' is not defined"
     ]
    }
   ],
   "source": [
    "def writeFile():\n",
    "  lines=[]\n",
    "  lines=input(\"Write in File: \")\n",
    "  file = open(\"textfile.txt\",\"w\")\n",
    "  file.writelines(lines)\n",
    "  file.close()\n",
    "\n",
    "def appendFile():\n",
    "  line=[]\n",
    "  lines=input(\"Write in File: \")\n",
    "  file = open(\"textfile.txt\",\"a\")\n",
    "  file.append(line)\n",
    "  readFile()\n",
    "\n",
    "\n",
    "\n",
    "def readFile():\n",
    "  file = open(\"textfile.txt\",\"r\")\n",
    "  fileData = file.read()\n",
    "  print(fileData)\n",
    "  file.close()\n",
    "\n",
    "def operation(): \n",
    "    op = input(\"Want to Overwrite (W) or Append (A) or Read (R) ? : \")\n",
    "    if op.lower() == \"w\":\n",
    "      writeFile()\n",
    "    elif op.lower() == \"a\":  \n",
    "      appendFile()\n",
    "    elif op.lower() == \"r\":  \n",
    "      readFile()\n",
    "    else:\n",
    "      print(\"Invalid Response!\")\n",
    "\n",
    "writeFile()\n",
    "\n",
    "#try Writing in read only mode\n",
    "try:\n",
    "  file.write(\" All is Well \")\n",
    "except:\n",
    "  print(\"File in Read only mode\")   \n",
    "  operation()\n",
    "\n",
    "finally:  \n",
    "  file.close()"
   ]
  },
  {
   "cell_type": "code",
   "execution_count": null,
   "metadata": {},
   "outputs": [],
   "source": []
  }
 ],
 "metadata": {
  "kernelspec": {
   "display_name": "Python 3",
   "language": "python",
   "name": "python3"
  },
  "language_info": {
   "codemirror_mode": {
    "name": "ipython",
    "version": 3
   },
   "file_extension": ".py",
   "mimetype": "text/x-python",
   "name": "python",
   "nbconvert_exporter": "python",
   "pygments_lexer": "ipython3",
   "version": "3.8.3"
  }
 },
 "nbformat": 4,
 "nbformat_minor": 4
}
