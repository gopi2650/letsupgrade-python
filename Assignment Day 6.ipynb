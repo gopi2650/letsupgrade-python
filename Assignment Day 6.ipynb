{
 "cells": [
  {
   "cell_type": "markdown",
   "metadata": {},
   "source": [
    "# Question1"
   ]
  },
  {
   "cell_type": "code",
   "execution_count": 1,
   "metadata": {},
   "outputs": [
    {
     "name": "stdout",
     "output_type": "stream",
     "text": [
      "BANK ACCOUNT DETAILS : \n",
      "Account Holder Name :  Manikandan\n",
      "Initial Balance :  0\n",
      "Do you want to Deposit or Withdraw or Exit D/W/E ?E\n",
      "Net Balance is:  0\n"
     ]
    }
   ],
   "source": [
    "# Bank Account\n",
    "class BankAccount: \n",
    " \n",
    "    def __init__(self): \n",
    "        self.ownerName=\"Manikandan\"\n",
    "        self.Balance=0\n",
    "        \n",
    "    def deposit(self):\n",
    "        Amt=float(input(\"Depositing Amount : \"))\n",
    "        self.Balance += Amt\n",
    "        print(\"Amount Deposited : \", Amt)\n",
    "        operation()\n",
    "        \n",
    "    def withdraw(self):\n",
    "        Amt = float(input(\"Amount to be Withdrawn : \"))\n",
    "        if Amt <= self.Balance:\n",
    "          self.Balance -= Amt\n",
    "          print(\"Withdrawn Amount :\", Amt)\n",
    "        else:\n",
    "          print(\"\\nInsufficient Fund. Available Balance:\", self.Balance) \n",
    "        operation()  \n",
    " \n",
    "print(\"BANK ACCOUNT DETAILS : \")\n",
    "acc = BankAccount()\n",
    "print(\"Account Holder Name : \", acc.ownerName)\n",
    "print(\"Initial Balance : \", acc.Balance)\n",
    "\n",
    "def operation():\n",
    "    op=input(\"Do you want to Deposit or Withdraw or Exit D/W/E ?\")\n",
    "    if op.lower() == \"d\":\n",
    "      acc.deposit()\n",
    "    elif op.lower() == \"w\":\n",
    "      acc.withdraw()\n",
    "    elif op.lower() == \"e\":  \n",
    "      exit\n",
    "    else:\n",
    "      print(\"Improper Response\")  \n",
    "operation()      \n",
    "print(\"Net Balance is: \", acc.Balance)"
   ]
  },
  {
   "cell_type": "markdown",
   "metadata": {},
   "source": [
    "# Question 2"
   ]
  },
  {
   "cell_type": "code",
   "execution_count": 2,
   "metadata": {},
   "outputs": [
    {
     "name": "stdout",
     "output_type": "stream",
     "text": [
      "Radius of cone : 3\n",
      "Height of cone : 5\n",
      "Volume Of Cone is : 47.12\n",
      "Surface Area Of Cone is : 83.23\n"
     ]
    }
   ],
   "source": [
    "\n",
    "import math\n",
    "class cone:\n",
    "    def __init__(self,r,h):\n",
    "        self.r=r\n",
    "        self.h=h\n",
    "    def volume(self):\n",
    "        result = (self.h / 3) * math.pi * (self.r)**2\n",
    "        print(\"Volume Of Cone is :\",round(result,2))\n",
    "    def surfacearea(self):\n",
    "        result = math.pi * self.r *(self.r + math.sqrt(self.h **2 + self.r **2))\n",
    "        print(\"Surface Area Of Cone is :\",round(result,2))\n",
    " \n",
    "rad = float(input(\"Radius of cone : \"))\n",
    "height = float(input(\"Height of cone : \"))\n",
    "obj = cone(rad,height)\n",
    "obj.volume() \n",
    "obj.surfacearea()"
   ]
  },
  {
   "cell_type": "code",
   "execution_count": null,
   "metadata": {},
   "outputs": [],
   "source": []
  }
 ],
 "metadata": {
  "kernelspec": {
   "display_name": "Python 3",
   "language": "python",
   "name": "python3"
  },
  "language_info": {
   "codemirror_mode": {
    "name": "ipython",
    "version": 3
   },
   "file_extension": ".py",
   "mimetype": "text/x-python",
   "name": "python",
   "nbconvert_exporter": "python",
   "pygments_lexer": "ipython3",
   "version": "3.8.3"
  }
 },
 "nbformat": 4,
 "nbformat_minor": 4
}
